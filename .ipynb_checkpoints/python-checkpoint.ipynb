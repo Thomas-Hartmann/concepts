{
 "cells": [
  {
   "cell_type": "markdown",
   "metadata": {},
   "source": [
    "# Python concepts\n",
    "### Collections\n",
    "- List\n",
    "- Tupple\n",
    "- Set\n",
    "- Dictionary\n",
    "- collections.defaultdict(<some default type>)\n"
   ]
  },
  {
   "cell_type": "markdown",
   "metadata": {},
   "source": [
    "#### List\n",
    "- append()\tAdds an element at the end of the list\n",
    "- clear()\tRemoves all the elements from the list\n",
    "- copy()\tReturns a copy of the list\n",
    "- count()\tReturns the number of elements with the specified value\n",
    "- extend()\tAdd the elements of a list (or any iterable), to the end of the current list\n",
    "- index()\tReturns the index of the first element with the specified value\n",
    "- insert()\tAdds an element at the specified position\n",
    "- pop()\tRemoves the element at the specified position\n",
    "- remove()\tRemoves the item with the specified value\n",
    "- reverse()\tReverses the order of the list\n",
    "- sort()\tSorts the list"
   ]
  },
  {
   "cell_type": "code",
   "execution_count": 3,
   "metadata": {},
   "outputs": [
    {
     "name": "stdout",
     "output_type": "stream",
     "text": [
      "['apple', 'banana', 'cherry']\n",
      "banana\n",
      "mango\n",
      "['apple', 'mango', 'cherry', 'lime']\n",
      "4\n",
      "['pear', 'apple', 'mango', 'cherry', 'lime']\n",
      "['pear', 'apple', 'mango', 'cherry']\n",
      "['mango', 'cherry']\n",
      "[]\n",
      "['pear', 'apple', 'mango', 'cherry', 'lime']\n",
      "['apple', 'cherry', 'lime', 'mango', 'pear']\n",
      "['pear', 'mango', 'lime', 'cherry', 'apple']\n",
      "-----copy------- ['pear', 'mango', 'lime', 'cherry', 'apple']\n",
      "number of mangos: 2\n",
      "cherry is in the list\n",
      "short list: ['pear', 'mango', 'lime']\n",
      "first 3 ['pear', 'mango', 'lime']\n",
      "last elments ['cherry', 'apple', 'mango']\n"
     ]
    }
   ],
   "source": [
    "# basic syntax\n",
    "my_list = [\"apple\", \"banana\", \"cherry\"]\n",
    "print(my_list)\n",
    "print(my_list[1])\n",
    "# change value\n",
    "my_list[1] = \"mango\"\n",
    "print(my_list[1])\n",
    "# append\n",
    "my_list.append(\"lime\")\n",
    "print(my_list)\n",
    "# size\n",
    "print(len(my_list))\n",
    "# insert (pushes following items to next index)\n",
    "my_list.insert(0, \"pear\")\n",
    "print(my_list)\n",
    "# remove (will throw an error if item not in the list !!!!!!)\n",
    "my_list.remove(\"lime\")\n",
    "print(my_list)\n",
    "# pop(index) or pop() to remove the last - returns the removed item\n",
    "my_list.pop(0)\n",
    "# del\n",
    "del my_list[0]   # del my_list     will remove the entire list\n",
    "print(my_list)\n",
    "\n",
    "# clear will clear the content\n",
    "my_list.clear()\n",
    "print(my_list)\n",
    "# create list with list constructor\n",
    "my_list = list(('pear', 'apple', 'mango', 'cherry', 'lime'))\n",
    "print(my_list)\n",
    "# sort list\n",
    "my_list.sort()\n",
    "print(my_list)\n",
    "# reverse\n",
    "my_list.reverse()\n",
    "print(my_list)\n",
    "# copy\n",
    "new_list = my_list.copy()\n",
    "print('-----copy-------',new_list)\n",
    "# count - returns number of element equal to the given one\n",
    "my_list.append(\"mango\")\n",
    "print(\"number of mangos:\",my_list.count(\"mango\"))\n",
    "# if exists\n",
    "if \"cherry\" in my_list:\n",
    "    print(\"cherry is in the list\")\n",
    "## Special things to do with lists: ###########\n",
    "# slicing\n",
    "short_list = my_list[0:3]\n",
    "print(\"short list:\",short_list)\n",
    "short_list = my_list[:3] # from beginnning to 3rd index\n",
    "print(\"first 3\",short_list)\n",
    "short_list = my_list[3:] # from 3rd index to end\n",
    "print(\"last elments\",short_list)"
   ]
  },
  {
   "cell_type": "code",
   "execution_count": 4,
   "metadata": {},
   "outputs": [
    {
     "name": "stdout",
     "output_type": "stream",
     "text": [
      "pear\n",
      "mango\n",
      "lime\n",
      "cherry\n",
      "apple\n",
      "mango\n"
     ]
    }
   ],
   "source": [
    "#Looping\n",
    "for fruit in my_list:\n",
    "    print(fruit)"
   ]
  },
  {
   "cell_type": "markdown",
   "metadata": {},
   "source": [
    "### Tuple\n",
    "- Is an **ordered** and **immutable** list\n",
    "##### Methods\n",
    "- count()\tReturns the number of times a specified value occurs in a tuple\n",
    "- index()\tSearches the tuple for a specified value and returns the position of where it was found"
   ]
  },
  {
   "cell_type": "code",
   "execution_count": 5,
   "metadata": {},
   "outputs": [
    {
     "name": "stdout",
     "output_type": "stream",
     "text": [
      "('volvo', 'saab', 'audi', 'bentley')\n",
      "volvo\n"
     ]
    }
   ],
   "source": [
    "# Constructor\n",
    "my_tuple = tuple((\"volvo\", \"saab\", \"audi\", \"bentley\"))\n",
    "print(my_tuple)\n",
    "# get\n",
    "print(my_tuple[0])"
   ]
  },
  {
   "cell_type": "markdown",
   "metadata": {},
   "source": [
    "#### Set\n",
    "Is an **unordered** and **unindexed** collection og unique values\n",
    "- no index means no way to get specific element from index and\n",
    "- no way to change values\n",
    "##### methods:\n",
    "- add()\tAdds an element to the set\n",
    "- clear()\tRemoves all the elements from the set\n",
    "- copy()\tReturns a copy of the set\n",
    "- difference()\tReturns a set containing the difference between two or more sets\n",
    "- difference_update()\tRemoves the items in this set that are also included in another, specified set\n",
    "- discard()\tRemove the specified item AND does NOT throw error if item doesnt exist.\n",
    "- intersection()\tReturns a set, that is the intersection of two other sets\n",
    "- intersection_update()\tRemoves the items in this set that are not present in other, specified set(s)\n",
    "- isdisjoint()\tReturns whether two sets have a intersection or not\n",
    "- issubset()\tReturns whether another set contains this set or not\n",
    "- issuperset()\tReturns whether this set contains another set or not\n",
    "- pop()\tRemoves the specified element\n",
    "- remove()\tRemoves the specified element\n",
    "- symmetric_difference()\tReturns a set with the symmetric differences of two sets\n",
    "- symmetric_difference_update()\tinserts the symmetric differences from this set and another\n",
    "- union()\tReturn a set containing the union of sets\n",
    "- update()\tUpdate the set with the union of this set and others"
   ]
  },
  {
   "cell_type": "code",
   "execution_count": 6,
   "metadata": {},
   "outputs": [
    {
     "name": "stdout",
     "output_type": "stream",
     "text": [
      "{'albert', 'dennis', 'charley', 'brian', 'erik', 'frede'}\n"
     ]
    }
   ],
   "source": [
    "my_set = {\"albert\", \"brian\", \"charley\", \"dennis\", \"erik\", \"frede\"} # or use set((\"\",\"\"...))\n",
    "print(my_set)"
   ]
  },
  {
   "cell_type": "code",
   "execution_count": 7,
   "metadata": {},
   "outputs": [
    {
     "name": "stdout",
     "output_type": "stream",
     "text": [
      "albert\n",
      "dennis\n",
      "charley\n",
      "brian\n",
      "erik\n",
      "frede\n",
      "brian exists in set: True\n"
     ]
    }
   ],
   "source": [
    "# get element (remember set has no index) necessary to loop through\n",
    "for elem in my_set:\n",
    "    print(elem)\n",
    "print(\"brian exists in set:\", \"brian\" in my_set)\n"
   ]
  },
  {
   "cell_type": "markdown",
   "metadata": {},
   "source": [
    "#### Dictionary\n",
    "Collection unordered, changeable and indexed and KEY, VALUE\n",
    "\n",
    "##### Methods\n",
    "- clear()\tRemoves all the elements from the dictionary\n",
    "- copy()\tReturns a copy of the dictionary\n",
    "- fromkeys()\tReturns a dictionary with the specified keys and values\n",
    "- get()\tReturns the value of the specified key\n",
    "- items()\tReturns a list containing the a tuple for each key value pair\n",
    "- keys()\tReturns a list contianing the dictionary's keys\n",
    "- pop()\tRemoves the element with the specified key\n",
    "- popitem()\tRemoves the last inserted key-value pair\n",
    "- setdefault()\tReturns the value of the specified key. If the key does not exist: insert the key, with the specified - value\n",
    "- update()\tUpdates the dictionary with the specified key-value pairs\n",
    "- values()\tReturns a list of all the values in the dictionary"
   ]
  },
  {
   "cell_type": "code",
   "execution_count": 8,
   "metadata": {},
   "outputs": [
    {
     "name": "stdout",
     "output_type": "stream",
     "text": [
      "{'model': 'Mustang', 'year': 1964, 'brand': 'Ford'}\n",
      "Ford and Mustang\n",
      "model : Mustang\n",
      "year : 1964\n",
      "brand : Ford\n",
      "--------------------\n",
      "model Mustang\n",
      "year 1964\n",
      "brand Ford\n",
      "--------------------\n",
      "{'new_key': 'new_value', 'model': 'Mustang', 'year': 1964, 'brand': 'Ford'}\n",
      "{'model': 'Mustang', 'year': 1964, 'brand': 'Ford'}\n"
     ]
    }
   ],
   "source": [
    "# create\n",
    "my_dict = {\n",
    "  \"brand\": \"Ford\",\n",
    "  \"model\": \"Mustang\",\n",
    "  \"year\": 1964\n",
    "}\n",
    "print(my_dict)\n",
    "\n",
    "# get values\n",
    "print(my_dict[\"brand\"],\"and\",my_dict.get(\"model\"))\n",
    "\n",
    "# loop\n",
    "for x in my_dict:\n",
    "    print(x,\":\", my_dict[x]) # or like:\n",
    "print(\"--------------------\")\n",
    "for x,y in my_dict.items():\n",
    "    print(x,y)\n",
    "print(\"--------------------\")\n",
    "# adding\n",
    "my_dict[\"new_key\"] = \"new_value\"\n",
    "print(my_dict)\n",
    "# removing\n",
    "del my_dict[\"new_key\"]\n",
    "print(my_dict)"
   ]
  },
  {
   "cell_type": "markdown",
   "metadata": {},
   "source": [
    "## Comprehensions\n",
    "Comprehensions are constructs that allow sequences to be built from other sequences. 3 types: **list, dictionary** and **set** comprehensions.\n",
    "They consist of 4 parts:\n",
    "- An Input Sequence.\n",
    "- A Variable representing members of the input sequence.\n",
    "- An Optional Predicate expression.\n",
    "- An Output Expression producing elements of the output list from members of the Input Sequence that satisfy the predicate.  \n",
    "\n",
    "![](media/listComprehensions.gif)\n",
    "\n"
   ]
  },
  {
   "cell_type": "code",
   "execution_count": 9,
   "metadata": {},
   "outputs": [
    {
     "name": "stdout",
     "output_type": "stream",
     "text": [
      "[1, 81, 0, 16, 121]\n",
      "{0: 0, 1: 1, 11: 121, 4: 16, 9: 81}\n",
      "{'4': 1, 'ant': 3, 'apple': 5}\n"
     ]
    }
   ],
   "source": [
    "# list comprehension with predicate (filter)\n",
    "a_list = [1, '4', 9, 'ant', 0, 4, \"apple\", 11]\n",
    "squared_ints = [ e**2 for e in a_list if type(e) == int ]\n",
    "print(squared_ints)\n",
    "# a dictionary comprehension with predicate\n",
    "a_dict = {e:e**2 for e in a_list if type(e) == int }\n",
    "print(a_dict)\n",
    "another_dict = {e:len(e) for e in a_list if type(e) == str }\n",
    "print(another_dict)"
   ]
  },
  {
   "cell_type": "code",
   "execution_count": 10,
   "metadata": {},
   "outputs": [
    {
     "name": "stdout",
     "output_type": "stream",
     "text": [
      "[1, 0, 0]\n",
      "[0, 1, 0]\n",
      "[0, 0, 1]\n"
     ]
    }
   ],
   "source": [
    "# nested comprehensions\n",
    "my_nested = [ [ 1 if item_idx == row_idx else 0 for item_idx in range(0, 3) ] for row_idx in range(0, 3) ]\n",
    "for row in my_nested:\n",
    "    print(row)"
   ]
  },
  {
   "cell_type": "markdown",
   "metadata": {},
   "source": [
    "#### generator expression\n",
    "- comprehension without creating the output list\n",
    "- when need to use a function on each element of a sequence without creating the sequence. cheaper on memory."
   ]
  },
  {
   "cell_type": "code",
   "execution_count": 11,
   "metadata": {},
   "outputs": [
    {
     "name": "stdout",
     "output_type": "stream",
     "text": [
      "10 10 10\n"
     ]
    }
   ],
   "source": [
    "# generator expression\n",
    "sum1 = sum([0,1,2,3,4])\n",
    "sum2 = sum([i for i in range(5)]) # same thing as comprehension:\n",
    "sum3 = sum(i for i in range(5)) # now with a generator expression (without the square brackets that creates the list):\n",
    "print(sum1, sum2, sum3)\n"
   ]
  },
  {
   "cell_type": "markdown",
   "metadata": {},
   "source": [
    "#### comprehension reading from file\n",
    "reading lines from files in different ways:"
   ]
  },
  {
   "cell_type": "code",
   "execution_count": 12,
   "metadata": {},
   "outputs": [
    {
     "name": "stdout",
     "output_type": "stream",
     "text": [
      "<_io.TextIOWrapper name='names.txt' mode='r' encoding='UTF-8'>\n",
      "--------------------------------\n",
      "Anders\n",
      "\n",
      "Åse\n",
      "\n",
      "Berit\n",
      "\n",
      "Ørvind\n",
      "\n",
      "Charlie\n",
      "\n",
      "Æske\n",
      "\n",
      "Ditte\n",
      "\n",
      "Zima\n",
      "\n",
      "Erik\n",
      "\n",
      "Yrsa\n",
      "\n",
      "Frede\n",
      "\n",
      "Xenia\n",
      "\n",
      "Grethe\n",
      "\n",
      "Walter\n",
      "\n",
      "Hanne\n",
      "\n",
      "Victor\n",
      "\n",
      "Inge\n",
      "\n",
      "Ulla\n",
      "\n",
      "Jesper\n",
      "\n",
      "Thomas\n",
      "\n",
      "Anders\n",
      "\n",
      "Åse\n",
      "\n",
      "Berit\n",
      "['Anders\\n', 'Åse\\n', 'Berit\\n', 'Ørvind\\n', 'Charlie\\n', 'Æske\\n', 'Ditte\\n', 'Zima\\n', 'Erik\\n', 'Yrsa\\n', 'Frede\\n', 'Xenia\\n', 'Grethe\\n', 'Walter\\n', 'Hanne\\n', 'Victor\\n', 'Inge\\n', 'Ulla\\n', 'Jesper\\n', 'Thomas\\n', 'Anders\\n', 'Åse\\n', 'Berit']\n",
      "['anders', 'åse', 'berit', 'ørvind', 'charlie', 'æske', 'ditte', 'zima', 'erik', 'yrsa', 'frede', 'xenia', 'grethe', 'walter', 'hanne', 'victor', 'inge', 'ulla', 'jesper', 'thomas', 'anders', 'åse', 'berit']\n",
      "---------------------------------\n",
      "['anders', 'berit', 'charlie', 'ditte', 'erik', 'frede', 'grethe', 'hanne', 'inge', 'jesper', 'thomas', 'ulla', 'victor', 'walter', 'xenia', 'yrsa', 'zima', 'åse', 'æske', 'ørvind']\n"
     ]
    }
   ],
   "source": [
    "# open a file and read content into variable\n",
    "names = open(\"names.txt\",\"r\")\n",
    "print(names)\n",
    "print(\"--------------------------------\")\n",
    "for name in names:\n",
    "    print(name)\n",
    "# open a file and read content into a list\n",
    "print([name for name in open(\"names.txt\")])\n",
    "# change each line as they are read into the list using a comprehension\n",
    "print([name.lower().strip() for name in open(\"names.txt\")])\n",
    "print(\"---------------------------------\")\n",
    "print(sorted(list(set([name.strip().lower() for name in open(\"names.txt\")]))))"
   ]
  },
  {
   "cell_type": "markdown",
   "metadata": {},
   "source": [
    "#### defaultdict(list)\n",
    "defaultdict is a subtype of dict that does NOT throw error when key is not in the dict. Instead it creates a new property with the given key and the default type. default dict must be imported."
   ]
  },
  {
   "cell_type": "code",
   "execution_count": 16,
   "metadata": {},
   "outputs": [
    {
     "name": "stdout",
     "output_type": "stream",
     "text": [
      "3\n",
      "defaultdict(<class 'int'>, {'Preben': 1, 'Jette': 2, 'Hanne': 1})\n"
     ]
    }
   ],
   "source": [
    "from collections import defaultdict\n",
    "names = ['Jette','Preben','Hanne','Jette']\n",
    "defdict = defaultdict(int)\n",
    "for name in names:\n",
    "    defdict[name] += 1 # Her indsættes default værdien hvis key'en ikke er der i forvejen. Default værdien er int hvilket vil sige 0 da en ikke initieret int er = 0.\n",
    "print(len(defdict))\n",
    "print(defdict)"
   ]
  },
  {
   "cell_type": "code",
   "execution_count": null,
   "metadata": {},
   "outputs": [],
   "source": []
  }
 ],
 "metadata": {
  "kernelspec": {
   "display_name": "Python 3",
   "language": "python",
   "name": "python3"
  },
  "language_info": {
   "codemirror_mode": {
    "name": "ipython",
    "version": 3
   },
   "file_extension": ".py",
   "mimetype": "text/x-python",
   "name": "python",
   "nbconvert_exporter": "python",
   "pygments_lexer": "ipython3",
   "version": "3.5.2"
  }
 },
 "nbformat": 4,
 "nbformat_minor": 2
}
