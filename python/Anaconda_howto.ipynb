{
 "cells": [
  {
   "cell_type": "markdown",
   "metadata": {},
   "source": [
    "# Anaconda\n",
    "**Anaconda is a collection of libraries plus conda.**\n",
    "**Conda** is a package management and environment management tool.\n",
    "- [getting stated](https://conda.io/projects/conda/en/latest/user-guide/getting-started.html)\n",
    "- Update conda to the latest version: `conda update conda`\n",
    "\n",
    "## Manage environments med conda\n",
    "- Create a new environment called 'snowflake'.\n",
    "    - `conda create --name snowflake`\n",
    "    - create env named snakes that uses python 3.7`conda create --name snakes python=3.7`\n",
    "- To use the new environment\n",
    "    - `source activate snowflakes`\n",
    "- See the active env:\n",
    "    - `conda info --envs`\n",
    "- To go back to the base env: \n",
    "    - `source deactivate` for windows (`deactivate`).\n",
    "    \n",
    "## Managing packages\n",
    "- Search for at package in the anaconda package repository\n",
    "    - `conda search beautifulsoup4`\n",
    "- Install the package into the current env\n",
    "    - `conda install beautifulsoup4`\n",
    "- See packages in the current env:\n",
    "    - `conda list`"
   ]
  }
 ],
 "metadata": {
  "kernelspec": {
   "display_name": "Python 3",
   "language": "python",
   "name": "python3"
  },
  "language_info": {
   "codemirror_mode": {
    "name": "ipython",
    "version": 3
   },
   "file_extension": ".py",
   "mimetype": "text/x-python",
   "name": "python",
   "nbconvert_exporter": "python",
   "pygments_lexer": "ipython3",
   "version": "3.7.0"
  }
 },
 "nbformat": 4,
 "nbformat_minor": 2
}
