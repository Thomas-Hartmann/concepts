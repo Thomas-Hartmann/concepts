{
 "cells": [
  {
   "cell_type": "markdown",
   "metadata": {},
   "source": [
    "## python exercises\n",
    "From here: https://github.com/zhiwehu/Python-programming-exercises/blob/master/100%2B%20Python%20challenging%20programming%20exercises.txt\n"
   ]
  },
  {
   "cell_type": "code",
   "execution_count": 2,
   "metadata": {},
   "outputs": [
    {
     "data": {
      "text/plain": [
       "[{0: 0, 1: 1, 2: 4, 3: 9, 4: 16, 5: 25, 6: 36, 7: 49, 8: 64, 9: 81}]"
      ]
     },
     "execution_count": 2,
     "metadata": {},
     "output_type": "execute_result"
    }
   ],
   "source": [
    "# ex 4\n",
    "[{e:e**2 for e in range(10)}]"
   ]
  },
  {
   "cell_type": "code",
   "execution_count": 4,
   "metadata": {},
   "outputs": [
    {
     "name": "stdout",
     "output_type": "stream",
     "text": [
      "['34', '67', '55', '33', '12', '98']\n",
      "('34', '67', '55', '33', '12', '98')\n"
     ]
    }
   ],
   "source": [
    "seq = \"34,67,55,33,12,98\"\n",
    "print(seq.split(\",\"))\n",
    "print(tuple(seq.split(\",\")))"
   ]
  },
  {
   "cell_type": "code",
   "execution_count": 9,
   "metadata": {},
   "outputs": [
    {
     "name": "stdout",
     "output_type": "stream",
     "text": [
      "18, 22, 24\n"
     ]
    }
   ],
   "source": [
    "#6\n",
    "import math\n",
    "c = 50\n",
    "h = 30\n",
    "def s_root(d):\n",
    "    q = str(int(round(math.sqrt(2*c*float(d)/h))))\n",
    "    return q\n",
    "input = \"100,150,180\"\n",
    "inp_arr = input.split(\",\")\n",
    "out_arr = [s_root(e) for e in inp_arr]\n",
    "print(\", \".join(out_arr))"
   ]
  },
  {
   "cell_type": "code",
   "execution_count": 17,
   "metadata": {},
   "outputs": [
    {
     "name": "stdout",
     "output_type": "stream",
     "text": [
      "[[0, 0, 0, 0, 0], [0, 1, 2, 3, 4], [0, 2, 4, 6, 8]]\n"
     ]
    }
   ],
   "source": [
    "# 7\n",
    "def make_square(rows, cols):\n",
    "    result = [[inner_idx*outer_idx for inner_idx in range(0,cols)] for outer_idx in range(0,rows)]\n",
    "    return result\n",
    "print(make_square(3,5))"
   ]
  },
  {
   "cell_type": "code",
   "execution_count": 21,
   "metadata": {},
   "outputs": [
    {
     "data": {
      "text/plain": [
       "'a,is,quick,sentence,this'"
      ]
     },
     "execution_count": 21,
     "metadata": {},
     "output_type": "execute_result"
    }
   ],
   "source": [
    "# 8\n",
    "def sort_words(words):\n",
    "    return \",\".join(sorted(words.split(\",\")))\n",
    "sort_words(\"this,is,a,quick,sentence\")"
   ]
  },
  {
   "cell_type": "code",
   "execution_count": 25,
   "metadata": {},
   "outputs": [
    {
     "name": "stdout",
     "output_type": "stream",
     "text": [
      "{'rabbits': 12.0, 'chicks': 23.0}\n",
      "-----------generic-------------\n",
      "{'four legged': 12.0, 'two legged': 23.0}\n"
     ]
    }
   ],
   "source": [
    "# last\n",
    "# Write a program to solve a classic ancient Chinese puzzle: \n",
    "# We count 35 heads and 94 legs among the chickens and rabbits in a farm. How many rabbits and how many chickens do we have?\n",
    "all_chicks = 94/2\n",
    "heads = 35\n",
    "rabbits = all_chicks - heads # missing heads = 12\n",
    "chicks = heads - rabbits\n",
    "print({\"rabbits\":rabbits,\"chicks\":chicks})\n",
    "print(\"-----------generic-------------\")\n",
    "def animal_count(heads, legs):\n",
    "    two_legged = legs/2\n",
    "    four_legged = two_legged - heads\n",
    "    two_legged_actual = heads - four_legged\n",
    "    return {\"two legged\":two_legged_actual, \"four legged\":four_legged}\n",
    "print(animal_count(35,94))"
   ]
  },
  {
   "cell_type": "code",
   "execution_count": null,
   "metadata": {},
   "outputs": [],
   "source": []
  }
 ],
 "metadata": {
  "kernelspec": {
   "display_name": "Python 3",
   "language": "python",
   "name": "python3"
  },
  "language_info": {
   "codemirror_mode": {
    "name": "ipython",
    "version": 3
   },
   "file_extension": ".py",
   "mimetype": "text/x-python",
   "name": "python",
   "nbconvert_exporter": "python",
   "pygments_lexer": "ipython3",
   "version": "3.5.2"
  }
 },
 "nbformat": 4,
 "nbformat_minor": 2
}
